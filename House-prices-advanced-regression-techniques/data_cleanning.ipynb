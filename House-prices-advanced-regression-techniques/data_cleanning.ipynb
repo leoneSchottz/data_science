{
 "cells": [
  {
   "cell_type": "code",
   "execution_count": null,
   "metadata": {},
   "outputs": [],
   "source": [
    "import pandas as pd\n",
    "import numpy as np\n",
    "import seaborn as sns"
   ]
  },
  {
   "cell_type": "code",
   "execution_count": null,
   "metadata": {},
   "outputs": [],
   "source": [
    "df_test = pd.read_csv('test.csv')\n",
    "df_train = pd.read_csv('train.csv')"
   ]
  },
  {
   "cell_type": "markdown",
   "metadata": {},
   "source": [
    "<h3>Finding bad features</h3>"
   ]
  },
  {
   "cell_type": "code",
   "execution_count": null,
   "metadata": {},
   "outputs": [],
   "source": [
    "cols = df_test.columns\n",
    "na_percentage_col = {}\n",
    "bad_feature = []\n",
    "\n",
    "# Checking NaN percentage\n",
    "for i in cols:\n",
    "    na_percentage_col[i] = df_test[i].isna().sum()/1459\n",
    "    # Selecting over 70%\n",
    "    if na_percentage_col[i] >= 0.7:\n",
    "        bad_feature.append(i)\n",
    "\n",
    "# Filtering\n",
    "features = na_percentage_col\n",
    "for x in bad_feature:\n",
    "    features.pop(x)\n"
   ]
  },
  {
   "cell_type": "code",
   "execution_count": null,
   "metadata": {},
   "outputs": [],
   "source": [
    "df_train.head()"
   ]
  },
  {
   "cell_type": "markdown",
   "metadata": {},
   "source": [
    "<h3>Passing changes</h3>"
   ]
  },
  {
   "cell_type": "code",
   "execution_count": null,
   "metadata": {},
   "outputs": [],
   "source": [
    "df_test = df_test[features.keys()]\n",
    "df_train.drop(bad_feature,axis=1)\n"
   ]
  },
  {
   "cell_type": "markdown",
   "metadata": {},
   "source": [
    "<h3>Changing qualitative categoricals to integrers</h3>"
   ]
  },
  {
   "cell_type": "code",
   "execution_count": null,
   "metadata": {},
   "outputs": [],
   "source": [
    "#Setting vareables\n",
    "t = list(df_test.select_dtypes('object').columns)\n",
    "qual_feat = []"
   ]
  },
  {
   "cell_type": "code",
   "execution_count": null,
   "metadata": {},
   "outputs": [],
   "source": [
    "#Targeting the categoricals by the \"TA\" value, based on data description file, this is the mode in qualitative features\n",
    "for i in t:\n",
    "    if ('TA' in list(df_test[i])) & (i not in qual_feat):\n",
    "        qual_feat.append(i)\n"
   ]
  },
  {
   "cell_type": "code",
   "execution_count": null,
   "metadata": {},
   "outputs": [],
   "source": [
    "label_df_test = df_test.copy()\n",
    "label_df_train = df_train.copy()"
   ]
  },
  {
   "cell_type": "code",
   "execution_count": null,
   "metadata": {},
   "outputs": [],
   "source": [
    "#Replace limited by qualitative feature\n",
    "for i in qual_feat:\n",
    "    label_df_test.replace( {i : { np.nan :0, 'Po' : 1, 'Fa' : 2, 'TA': 3, 'Gd': 4, 'Ex': 5}}, inplace=True)\n",
    "    label_df_train.replace( {i : { np.nan :0, 'Po' : 1, 'Fa' : 2, 'TA': 3, 'Gd': 4, 'Ex': 5}}, inplace=True)\n"
   ]
  },
  {
   "cell_type": "code",
   "execution_count": null,
   "metadata": {},
   "outputs": [],
   "source": [
    "#Appling changes\n",
    "df_test =label_df_test\n",
    "df_train = label_df_train "
   ]
  },
  {
   "cell_type": "code",
   "execution_count": null,
   "metadata": {},
   "outputs": [],
   "source": []
  }
 ],
 "metadata": {
  "interpreter": {
   "hash": "b1cf3758a0f92fc99b6962c720c3b82322bc363972eb6a53fc896ef0ca9c0c85"
  },
  "kernelspec": {
   "display_name": "Python 3.10.7 64-bit",
   "language": "python",
   "name": "python3"
  },
  "language_info": {
   "codemirror_mode": {
    "name": "ipython",
    "version": 3
   },
   "file_extension": ".py",
   "mimetype": "text/x-python",
   "name": "python",
   "nbconvert_exporter": "python",
   "pygments_lexer": "ipython3",
   "version": "3.10.7"
  },
  "orig_nbformat": 4
 },
 "nbformat": 4,
 "nbformat_minor": 2
}
